{
  "nbformat": 4,
  "nbformat_minor": 0,
  "metadata": {
    "colab": {
      "name": "ML Black-Scholes.ipynb",
      "provenance": [],
      "collapsed_sections": []
    },
    "kernelspec": {
      "name": "python3",
      "display_name": "Python 3"
    },
    "language_info": {
      "name": "python"
    }
  },
  "cells": [
    {
      "cell_type": "markdown",
      "metadata": {
        "id": "dvBsP23DUG5R"
      },
      "source": [
        "# Aproximación a valores de Black-Scholes por método de redes neuronales\n",
        "Se subió a Google Drive un [archivo .csv](https://github.com/sanarovaz/ML-Black-Scholes/blob/main/BSSim.csv) conteniendo los valores de 500.000 combinaciones de parámetros y su correspondiente valor a partir de la fórmula de Black-Scholes. Para la obtención de esos valores se emplearon la función runif( ) y la función blackscholes( ) del paquete ragtop, en R.\n",
        "\n",
        "---\n",
        "\n",
        "Recuérdese la fórmula de Black-Scholes para opciones europeas\n",
        "\n",
        "\n",
        "$$C(S_0,t)=S_0N(d_1)-Ke^{-r(T-t)}N(d_2)$$\n",
        "$$P(S_0,t)=Ke^{-r(T-t)}N(-d_2)-S_0N(-d_1)$$\n",
        "con\n",
        "- $d_1=\\frac{\\ln\\frac{S_0}{K}+(r+\\frac{\\sigma^2}{2})(T-t)}{\\sigma\\sqrt{T-t}}$\n",
        "- $d_2=d_1-\\sigma\\sqrt{T-t}=\\frac{\\ln\\frac{S_0}{K}+(r-\\frac{\\sigma^2}{2})(T-t)}{\\sigma\\sqrt{T-t}}$\n",
        "- $S_0$: Precio de la acción\n",
        "- $C(S_0,t)$: Precio de Call\n",
        "- $K$: Precio de strike\n",
        "- $(T-t)$: Madurez\n",
        "- $\\sigma$: Volatilidad (desvío estándar del logaritmo de los retornos)\n",
        "- $r$: Tasa Libre de Riesgo\n",
        "- $N(x)$: Función de distribución acumulada de la normal estándar\n",
        "\n"
      ]
    },
    {
      "cell_type": "markdown",
      "metadata": {
        "id": "MceUaGG8VqDP"
      },
      "source": [
        "\n",
        "\n",
        "Los parámetros fueron obtenidos de manera pseudoaleatoria con una distribución uniforme entre los siguientes rangos:\n",
        "\n",
        "\n",
        "| Parámetro              |   Rango           |\n",
        "|:-----------------------|:------------------|\n",
        "| Precio de la acción $(S)$    | \\\\$10 — \\\\$500     |\n",
        "| Precio de strike $(K)$     |  \\\\$0,1 — \\\\$1000    |\n",
        "| Madurez $(T-t)$       | 1 día - 3 años  |\n",
        "| Tasa de dividendos $(q)$    | 0\\% — 5\\%         |\n",
        "| Tasa Libre de Riesgo $(r)$   | 1\\% — 5\\%         |\n",
        "| Volatilidad $(\\sigma)$  | 1\\% — 99,99\\%        |\n",
        "| Precio de Call $(C)$       |  \\\\$0 — \\\\$23045,77    |"
      ]
    },
    {
      "cell_type": "markdown",
      "metadata": {
        "id": "RQE_3_TpChqO"
      },
      "source": [
        "## Código"
      ]
    },
    {
      "cell_type": "code",
      "metadata": {
        "colab": {
          "base_uri": "https://localhost:8080/"
        },
        "id": "VlxX1i1DDDqG",
        "outputId": "43d3907c-4b95-4938-c747-afbcd09dbddf"
      },
      "source": [
        "from google.colab import drive\n",
        "drive.mount('/content/drive')\n",
        "drive"
      ],
      "execution_count": 13,
      "outputs": [
        {
          "output_type": "stream",
          "name": "stdout",
          "text": [
            "Drive already mounted at /content/drive; to attempt to forcibly remount, call drive.mount(\"/content/drive\", force_remount=True).\n"
          ]
        },
        {
          "output_type": "execute_result",
          "data": {
            "text/plain": [
              "<module 'google.colab.drive' from '/usr/local/lib/python3.7/dist-packages/google/colab/drive.py'>"
            ]
          },
          "metadata": {},
          "execution_count": 13
        }
      ]
    },
    {
      "cell_type": "code",
      "metadata": {
        "id": "79S9c59oDg0I"
      },
      "source": [
        "import numpy as np\n",
        "from sklearn.neural_network import MLPRegressor\n",
        "from sklearn.model_selection import train_test_split\n",
        "from sklearn.metrics import mean_squared_error, r2_score\n",
        "import pandas as pd\n",
        "import matplotlib.pyplot as plt\n",
        "import pickle\n",
        "from scipy import stats\n",
        "import matplotlib\n",
        "matplotlib.rcParams['figure.dpi'] = 150"
      ],
      "execution_count": 14,
      "outputs": []
    },
    {
      "cell_type": "code",
      "metadata": {
        "id": "cb49IBLoDrVi"
      },
      "source": [
        "path = '/content/drive/MyDrive/Colab Notebooks/BSSim.csv'"
      ],
      "execution_count": 15,
      "outputs": []
    },
    {
      "cell_type": "code",
      "metadata": {
        "colab": {
          "base_uri": "https://localhost:8080/",
          "height": 424
        },
        "id": "-zXHc7RoLub-",
        "outputId": "72b31030-05fc-4e5c-adbd-50b01470d786"
      },
      "source": [
        "df = pd.read_csv('/content/drive/MyDrive/Colab Notebooks/BSSim.csv').drop(['Unnamed: 0'], axis= 1)\n",
        "df"
      ],
      "execution_count": 16,
      "outputs": [
        {
          "output_type": "execute_result",
          "data": {
            "text/html": [
              "<div>\n",
              "<style scoped>\n",
              "    .dataframe tbody tr th:only-of-type {\n",
              "        vertical-align: middle;\n",
              "    }\n",
              "\n",
              "    .dataframe tbody tr th {\n",
              "        vertical-align: top;\n",
              "    }\n",
              "\n",
              "    .dataframe thead th {\n",
              "        text-align: right;\n",
              "    }\n",
              "</style>\n",
              "<table border=\"1\" class=\"dataframe\">\n",
              "  <thead>\n",
              "    <tr style=\"text-align: right;\">\n",
              "      <th></th>\n",
              "      <th>Stock Price</th>\n",
              "      <th>Strike Price</th>\n",
              "      <th>Maturity</th>\n",
              "      <th>Dividend Rate</th>\n",
              "      <th>Volatility</th>\n",
              "      <th>Risk-Free Rate</th>\n",
              "      <th>Call Price</th>\n",
              "    </tr>\n",
              "  </thead>\n",
              "  <tbody>\n",
              "    <tr>\n",
              "      <th>0</th>\n",
              "      <td>255.041042</td>\n",
              "      <td>950.744397</td>\n",
              "      <td>1.969097</td>\n",
              "      <td>0.010443</td>\n",
              "      <td>0.718442</td>\n",
              "      <td>0.095498</td>\n",
              "      <td>2.611228e+01</td>\n",
              "    </tr>\n",
              "    <tr>\n",
              "      <th>1</th>\n",
              "      <td>368.552012</td>\n",
              "      <td>621.011641</td>\n",
              "      <td>1.284498</td>\n",
              "      <td>0.018675</td>\n",
              "      <td>0.445279</td>\n",
              "      <td>0.081265</td>\n",
              "      <td>2.336295e+01</td>\n",
              "    </tr>\n",
              "    <tr>\n",
              "      <th>2</th>\n",
              "      <td>60.413555</td>\n",
              "      <td>603.651758</td>\n",
              "      <td>0.952611</td>\n",
              "      <td>0.010442</td>\n",
              "      <td>0.987656</td>\n",
              "      <td>0.052811</td>\n",
              "      <td>5.193936e-01</td>\n",
              "    </tr>\n",
              "    <tr>\n",
              "      <th>3</th>\n",
              "      <td>290.442086</td>\n",
              "      <td>949.842427</td>\n",
              "      <td>2.481747</td>\n",
              "      <td>0.006238</td>\n",
              "      <td>0.155186</td>\n",
              "      <td>0.095643</td>\n",
              "      <td>1.049972e-03</td>\n",
              "    </tr>\n",
              "    <tr>\n",
              "      <th>4</th>\n",
              "      <td>170.439907</td>\n",
              "      <td>445.413954</td>\n",
              "      <td>0.427126</td>\n",
              "      <td>0.036164</td>\n",
              "      <td>0.595567</td>\n",
              "      <td>0.016510</td>\n",
              "      <td>2.160785e-01</td>\n",
              "    </tr>\n",
              "    <tr>\n",
              "      <th>...</th>\n",
              "      <td>...</td>\n",
              "      <td>...</td>\n",
              "      <td>...</td>\n",
              "      <td>...</td>\n",
              "      <td>...</td>\n",
              "      <td>...</td>\n",
              "      <td>...</td>\n",
              "    </tr>\n",
              "    <tr>\n",
              "      <th>499995</th>\n",
              "      <td>115.986656</td>\n",
              "      <td>504.959382</td>\n",
              "      <td>2.860278</td>\n",
              "      <td>0.041467</td>\n",
              "      <td>0.456905</td>\n",
              "      <td>0.082281</td>\n",
              "      <td>2.379752e+00</td>\n",
              "    </tr>\n",
              "    <tr>\n",
              "      <th>499996</th>\n",
              "      <td>449.113434</td>\n",
              "      <td>778.358943</td>\n",
              "      <td>0.971457</td>\n",
              "      <td>0.046959</td>\n",
              "      <td>0.157285</td>\n",
              "      <td>0.083839</td>\n",
              "      <td>1.026697e-02</td>\n",
              "    </tr>\n",
              "    <tr>\n",
              "      <th>499997</th>\n",
              "      <td>388.330313</td>\n",
              "      <td>724.784668</td>\n",
              "      <td>2.170198</td>\n",
              "      <td>0.018781</td>\n",
              "      <td>0.014243</td>\n",
              "      <td>0.041413</td>\n",
              "      <td>5.401457e-166</td>\n",
              "    </tr>\n",
              "    <tr>\n",
              "      <th>499998</th>\n",
              "      <td>219.441420</td>\n",
              "      <td>323.686003</td>\n",
              "      <td>1.785220</td>\n",
              "      <td>0.020249</td>\n",
              "      <td>0.103391</td>\n",
              "      <td>0.083503</td>\n",
              "      <td>2.873002e-01</td>\n",
              "    </tr>\n",
              "    <tr>\n",
              "      <th>499999</th>\n",
              "      <td>292.115058</td>\n",
              "      <td>870.189070</td>\n",
              "      <td>2.416340</td>\n",
              "      <td>0.025631</td>\n",
              "      <td>0.283452</td>\n",
              "      <td>0.084081</td>\n",
              "      <td>1.053597e+00</td>\n",
              "    </tr>\n",
              "  </tbody>\n",
              "</table>\n",
              "<p>500000 rows × 7 columns</p>\n",
              "</div>"
            ],
            "text/plain": [
              "        Stock Price  Strike Price  ...  Risk-Free Rate     Call Price\n",
              "0        255.041042    950.744397  ...        0.095498   2.611228e+01\n",
              "1        368.552012    621.011641  ...        0.081265   2.336295e+01\n",
              "2         60.413555    603.651758  ...        0.052811   5.193936e-01\n",
              "3        290.442086    949.842427  ...        0.095643   1.049972e-03\n",
              "4        170.439907    445.413954  ...        0.016510   2.160785e-01\n",
              "...             ...           ...  ...             ...            ...\n",
              "499995   115.986656    504.959382  ...        0.082281   2.379752e+00\n",
              "499996   449.113434    778.358943  ...        0.083839   1.026697e-02\n",
              "499997   388.330313    724.784668  ...        0.041413  5.401457e-166\n",
              "499998   219.441420    323.686003  ...        0.083503   2.873002e-01\n",
              "499999   292.115058    870.189070  ...        0.084081   1.053597e+00\n",
              "\n",
              "[500000 rows x 7 columns]"
            ]
          },
          "metadata": {},
          "execution_count": 16
        }
      ]
    },
    {
      "cell_type": "markdown",
      "metadata": {
        "id": "TaoSK0IeDavh"
      },
      "source": [
        "---\n",
        "Resumimos algunas de las principales medidas de posición y dispersión."
      ]
    },
    {
      "cell_type": "code",
      "metadata": {
        "colab": {
          "base_uri": "https://localhost:8080/"
        },
        "id": "qNmfIYIPXgUI",
        "outputId": "4551656c-3b86-47b8-8a08-c732920a6558"
      },
      "source": [
        "df['Call Price'].describe()"
      ],
      "execution_count": 17,
      "outputs": [
        {
          "output_type": "execute_result",
          "data": {
            "text/plain": [
              "count    500000.000000\n",
              "mean         62.328677\n",
              "std          94.397183\n",
              "min           0.000000\n",
              "25%           0.007399\n",
              "50%          11.816179\n",
              "75%          91.843662\n",
              "max         495.938269\n",
              "Name: Call Price, dtype: float64"
            ]
          },
          "metadata": {},
          "execution_count": 17
        }
      ]
    },
    {
      "cell_type": "markdown",
      "metadata": {
        "id": "sZlwZXioDBJG"
      },
      "source": [
        "Nótese que los datos de esta muestra generada aleatoriamente en R presenta una marcada asimetría positiva (concentración de frecuencia de los menores valores del dominio), que contrasta con la mucho menor asimetría del dataset empleado en el curso. Ésto puede ser causado por el método de generación de los datos, y quizá podría corregirse empleando algoritmos de generación de variable con distribuciones no-uniformes.\n",
        "\n"
      ]
    },
    {
      "cell_type": "markdown",
      "metadata": {
        "id": "Wkvok9qAGowF"
      },
      "source": [
        "## Normalización\n",
        "\n",
        "Normalizamos los datos, apoyándonos en la propiedad de la fórmula de Black-Scholes:\n",
        "\n",
        "$C(S,K)/K = C(S/K, 1)$\n"
      ]
    },
    {
      "cell_type": "code",
      "metadata": {
        "colab": {
          "base_uri": "https://localhost:8080/",
          "height": 424
        },
        "id": "3hcbn-AqNF9p",
        "outputId": "6e08c239-7481-48a7-b1a5-ca1d8becb195"
      },
      "source": [
        "df[\"Stock Price\"] = df[\"Stock Price\"]/df[\"Strike Price\"]\n",
        "df[\"Call Price\"] = df[\"Call Price\"]/df[\"Strike Price\"]\n",
        "df[\"Strike Price\"] = df[\"Strike Price\"]/df[\"Strike Price\"]\n",
        "df"
      ],
      "execution_count": 18,
      "outputs": [
        {
          "output_type": "execute_result",
          "data": {
            "text/html": [
              "<div>\n",
              "<style scoped>\n",
              "    .dataframe tbody tr th:only-of-type {\n",
              "        vertical-align: middle;\n",
              "    }\n",
              "\n",
              "    .dataframe tbody tr th {\n",
              "        vertical-align: top;\n",
              "    }\n",
              "\n",
              "    .dataframe thead th {\n",
              "        text-align: right;\n",
              "    }\n",
              "</style>\n",
              "<table border=\"1\" class=\"dataframe\">\n",
              "  <thead>\n",
              "    <tr style=\"text-align: right;\">\n",
              "      <th></th>\n",
              "      <th>Stock Price</th>\n",
              "      <th>Strike Price</th>\n",
              "      <th>Maturity</th>\n",
              "      <th>Dividend Rate</th>\n",
              "      <th>Volatility</th>\n",
              "      <th>Risk-Free Rate</th>\n",
              "      <th>Call Price</th>\n",
              "    </tr>\n",
              "  </thead>\n",
              "  <tbody>\n",
              "    <tr>\n",
              "      <th>0</th>\n",
              "      <td>0.268254</td>\n",
              "      <td>1.0</td>\n",
              "      <td>1.969097</td>\n",
              "      <td>0.010443</td>\n",
              "      <td>0.718442</td>\n",
              "      <td>0.095498</td>\n",
              "      <td>2.746509e-02</td>\n",
              "    </tr>\n",
              "    <tr>\n",
              "      <th>1</th>\n",
              "      <td>0.593470</td>\n",
              "      <td>1.0</td>\n",
              "      <td>1.284498</td>\n",
              "      <td>0.018675</td>\n",
              "      <td>0.445279</td>\n",
              "      <td>0.081265</td>\n",
              "      <td>3.762080e-02</td>\n",
              "    </tr>\n",
              "    <tr>\n",
              "      <th>2</th>\n",
              "      <td>0.100080</td>\n",
              "      <td>1.0</td>\n",
              "      <td>0.952611</td>\n",
              "      <td>0.010442</td>\n",
              "      <td>0.987656</td>\n",
              "      <td>0.052811</td>\n",
              "      <td>8.604192e-04</td>\n",
              "    </tr>\n",
              "    <tr>\n",
              "      <th>3</th>\n",
              "      <td>0.305779</td>\n",
              "      <td>1.0</td>\n",
              "      <td>2.481747</td>\n",
              "      <td>0.006238</td>\n",
              "      <td>0.155186</td>\n",
              "      <td>0.095643</td>\n",
              "      <td>1.105418e-06</td>\n",
              "    </tr>\n",
              "    <tr>\n",
              "      <th>4</th>\n",
              "      <td>0.382655</td>\n",
              "      <td>1.0</td>\n",
              "      <td>0.427126</td>\n",
              "      <td>0.036164</td>\n",
              "      <td>0.595567</td>\n",
              "      <td>0.016510</td>\n",
              "      <td>4.851183e-04</td>\n",
              "    </tr>\n",
              "    <tr>\n",
              "      <th>...</th>\n",
              "      <td>...</td>\n",
              "      <td>...</td>\n",
              "      <td>...</td>\n",
              "      <td>...</td>\n",
              "      <td>...</td>\n",
              "      <td>...</td>\n",
              "      <td>...</td>\n",
              "    </tr>\n",
              "    <tr>\n",
              "      <th>499995</th>\n",
              "      <td>0.229695</td>\n",
              "      <td>1.0</td>\n",
              "      <td>2.860278</td>\n",
              "      <td>0.041467</td>\n",
              "      <td>0.456905</td>\n",
              "      <td>0.082281</td>\n",
              "      <td>4.712759e-03</td>\n",
              "    </tr>\n",
              "    <tr>\n",
              "      <th>499996</th>\n",
              "      <td>0.577000</td>\n",
              "      <td>1.0</td>\n",
              "      <td>0.971457</td>\n",
              "      <td>0.046959</td>\n",
              "      <td>0.157285</td>\n",
              "      <td>0.083839</td>\n",
              "      <td>1.319053e-05</td>\n",
              "    </tr>\n",
              "    <tr>\n",
              "      <th>499997</th>\n",
              "      <td>0.535787</td>\n",
              "      <td>1.0</td>\n",
              "      <td>2.170198</td>\n",
              "      <td>0.018781</td>\n",
              "      <td>0.014243</td>\n",
              "      <td>0.041413</td>\n",
              "      <td>7.452499e-169</td>\n",
              "    </tr>\n",
              "    <tr>\n",
              "      <th>499998</th>\n",
              "      <td>0.677945</td>\n",
              "      <td>1.0</td>\n",
              "      <td>1.785220</td>\n",
              "      <td>0.020249</td>\n",
              "      <td>0.103391</td>\n",
              "      <td>0.083503</td>\n",
              "      <td>8.875891e-04</td>\n",
              "    </tr>\n",
              "    <tr>\n",
              "      <th>499999</th>\n",
              "      <td>0.335691</td>\n",
              "      <td>1.0</td>\n",
              "      <td>2.416340</td>\n",
              "      <td>0.025631</td>\n",
              "      <td>0.283452</td>\n",
              "      <td>0.084081</td>\n",
              "      <td>1.210768e-03</td>\n",
              "    </tr>\n",
              "  </tbody>\n",
              "</table>\n",
              "<p>500000 rows × 7 columns</p>\n",
              "</div>"
            ],
            "text/plain": [
              "        Stock Price  Strike Price  ...  Risk-Free Rate     Call Price\n",
              "0          0.268254           1.0  ...        0.095498   2.746509e-02\n",
              "1          0.593470           1.0  ...        0.081265   3.762080e-02\n",
              "2          0.100080           1.0  ...        0.052811   8.604192e-04\n",
              "3          0.305779           1.0  ...        0.095643   1.105418e-06\n",
              "4          0.382655           1.0  ...        0.016510   4.851183e-04\n",
              "...             ...           ...  ...             ...            ...\n",
              "499995     0.229695           1.0  ...        0.082281   4.712759e-03\n",
              "499996     0.577000           1.0  ...        0.083839   1.319053e-05\n",
              "499997     0.535787           1.0  ...        0.041413  7.452499e-169\n",
              "499998     0.677945           1.0  ...        0.083503   8.875891e-04\n",
              "499999     0.335691           1.0  ...        0.084081   1.210768e-03\n",
              "\n",
              "[500000 rows x 7 columns]"
            ]
          },
          "metadata": {},
          "execution_count": 18
        }
      ]
    },
    {
      "cell_type": "markdown",
      "metadata": {
        "id": "lRl5iNdbEHHI"
      },
      "source": [
        "## Entrenamiento del modelo\n",
        "Se modela una red neuronal con 4 capas de 100 neuronas cada una, con un máximo de 5 iteraciones de entrenamiento. Para ésto se emplean algoritmos de SciKit, en particular [MLPRegressor](https://scikit-learn.org/stable/modules/neural_networks_supervised.html), que emplea un perceptrón multicapa que entrena vía retropropagación y emplea error cuadrado como su función de costo.\n",
        "\n",
        "Para validar nuestro modelo, particionaremos nuestra muestra de 500.000 datos en un grupo que incluya al 80% (400.000 datos) seleccionados aleatoriamente y un grupo que contenga al 20% (100.000 datos) restante.\n",
        "\n",
        "Emplearemos el primer grupo para entrenar al modelo, esperando que le permita generar una red que logre predecir efectivamente los valores correspondientes al segundo grupo."
      ]
    },
    {
      "cell_type": "code",
      "metadata": {
        "id": "TnSu8Q_jNR_9"
      },
      "source": [
        "np.random.seed(237)\n",
        "X_train, X_test, y_train, y_test = train_test_split(df.drop('Call Price', axis=1), \n",
        "                                                    df['Call Price'], test_size=0.2)\n",
        "\n",
        "mlp = MLPRegressor(hidden_layer_sizes=(100,100,100,100), \n",
        "                   solver='adam', shuffle = False, batch_size=64, verbose=True,\n",
        "                   max_iter= 5\n",
        "                    ) "
      ],
      "execution_count": 27,
      "outputs": []
    },
    {
      "cell_type": "code",
      "metadata": {
        "colab": {
          "base_uri": "https://localhost:8080/"
        },
        "id": "VrHEwhaPNrdN",
        "outputId": "cdfae73a-e8c9-47ca-e975-18d7e6d9e751"
      },
      "source": [
        "np.random.seed(237)\n",
        "mlp.fit(X_train, y_train)"
      ],
      "execution_count": 28,
      "outputs": [
        {
          "output_type": "stream",
          "name": "stdout",
          "text": [
            "Iteration 1, loss = 213.61281358\n",
            "Iteration 2, loss = 164.03065278\n",
            "Iteration 3, loss = 213.72765747\n",
            "Iteration 4, loss = 262.59395452\n",
            "Iteration 5, loss = 147.08965353\n"
          ]
        },
        {
          "output_type": "stream",
          "name": "stderr",
          "text": [
            "/usr/local/lib/python3.7/dist-packages/sklearn/neural_network/_multilayer_perceptron.py:696: ConvergenceWarning: Stochastic Optimizer: Maximum iterations (5) reached and the optimization hasn't converged yet.\n",
            "  ConvergenceWarning,\n"
          ]
        },
        {
          "output_type": "execute_result",
          "data": {
            "text/plain": [
              "MLPRegressor(batch_size=64, hidden_layer_sizes=(100, 100, 100, 100), max_iter=5,\n",
              "             shuffle=False, verbose=True)"
            ]
          },
          "metadata": {},
          "execution_count": 28
        }
      ]
    },
    {
      "cell_type": "markdown",
      "metadata": {
        "id": "WT8-hDYAKSpg"
      },
      "source": [
        "A continuación se computan los valores de $R^2$. "
      ]
    },
    {
      "cell_type": "code",
      "metadata": {
        "colab": {
          "base_uri": "https://localhost:8080/"
        },
        "id": "clE0qIh4OXTt",
        "outputId": "b28b9316-2523-43a7-fdff-30bf18de4fb2"
      },
      "source": [
        "print(\"Valor en el conjunto de entrenamiento: %f\" % mlp.score(X_train, y_train))\n",
        "print(\"Valor en el conjunto de prueba: %f\" % mlp.score(X_test, y_test))"
      ],
      "execution_count": 29,
      "outputs": [
        {
          "output_type": "stream",
          "name": "stdout",
          "text": [
            "Valor en el conjunto de entrenamiento: 0.995725\n",
            "Valor en el conjunto de prueba: 0.997317\n"
          ]
        }
      ]
    },
    {
      "cell_type": "markdown",
      "metadata": {
        "id": "BzJE2FltLaz5"
      },
      "source": [
        "> Nótese que cuando se intentó buscó construir el modelo con un máximo de 20 iteraciones de entrenamiento, los valores de $R^2$ fueron significativamente menores (debajo de 85%).\n",
        "\n",
        "\n"
      ]
    },
    {
      "cell_type": "markdown",
      "metadata": {
        "id": "v9Vsa3yhL6Ga"
      },
      "source": [
        "## Visualización del modelo\n",
        "\n"
      ]
    },
    {
      "cell_type": "code",
      "metadata": {
        "colab": {
          "base_uri": "https://localhost:8080/",
          "height": 594
        },
        "id": "97jpBENZOhYg",
        "outputId": "8e0d83af-6e37-4bc6-b994-0b574bd34547"
      },
      "source": [
        "preds_test = mlp.predict(X_test)\n",
        "plt.scatter(y_test, preds_test, s= 0.1)\n",
        "plt.ylabel(\"Precio (predicción)\")\n",
        "plt.xlabel(\"Precio real\")\n",
        "plt.title(\"Precio predicho vs. Precio real\")\n",
        "plt.show()"
      ],
      "execution_count": 34,
      "outputs": [
        {
          "output_type": "display_data",
          "data": {
            "image/png": "[encoded data removed]",
            "text/plain": [
              "<Figure size 900x600 with 1 Axes>"
            ]
          },
          "metadata": {
            "needs_background": "light"
          }
        }
      ]
    },
    {
      "cell_type": "markdown",
      "metadata": {
        "id": "40rd_rvXNE4g"
      },
      "source": [
        "Como ya se mencionó, existe una marcada asimetría en los datos. Ésto causa que el gráfico, si bien parece indicar la eficiencia del modelo, presente datos muy dispersos para precios mayores a 2500. Es posible que la asimetría cause algún tipo de distorsión, por lo que procedemos a visualizar el gráfico centrados en los valores menores al cuantil 99 de cada set."
      ]
    },
    {
      "cell_type": "code",
      "metadata": {
        "colab": {
          "base_uri": "https://localhost:8080/"
        },
        "id": "YQQr17aDNqNa",
        "outputId": "06185257-0041-4a6f-c33f-585cf5dfcd71"
      },
      "source": [
        "np.quantile(preds_test, 0.99), np.quantile(y_test, 0.99)"
      ],
      "execution_count": 59,
      "outputs": [
        {
          "output_type": "execute_result",
          "data": {
            "text/plain": [
              "(26.26112497291188, 23.283158260298574)"
            ]
          },
          "metadata": {},
          "execution_count": 59
        }
      ]
    },
    {
      "cell_type": "code",
      "metadata": {
        "colab": {
          "base_uri": "https://localhost:8080/",
          "height": 594
        },
        "id": "E-emzyd0MfPl",
        "outputId": "420cbe46-6fc5-49e0-9c8a-ab0249a1a1bd"
      },
      "source": [
        "preds_test = mlp.predict(X_test)\n",
        "plt.scatter(y_test, preds_test, s= 0.1)\n",
        "plt.ylabel(\"Precio (predicción)\")\n",
        "plt.xlabel(\"Precio real\")\n",
        "plt.title(\"Precio predicho vs. Precio real\")\n",
        "plt.xlim([-1, 28])\n",
        "plt.ylim([-1, 28])\n",
        "plt.show()"
      ],
      "execution_count": 63,
      "outputs": [
        {
          "output_type": "display_data",
          "data": {
            "image/png": "[encoded data removed]",
            "text/plain": [
              "<Figure size 900x600 with 1 Axes>"
            ]
          },
          "metadata": {
            "needs_background": "light"
          }
        }
      ]
    },
    {
      "cell_type": "markdown",
      "metadata": {
        "id": "CbPgeKm-P6_G"
      },
      "source": [
        "Notamos que la variación es algo mayor a la aparente en el primer scatterplot. Se debe estudiar los efectos de volver a entrenar al modelo sin los outliers.\n",
        "\n"
      ]
    },
    {
      "cell_type": "markdown",
      "metadata": {
        "id": "aQjOeCD7SFsM"
      },
      "source": [
        "---"
      ]
    },
    {
      "cell_type": "markdown",
      "metadata": {
        "id": "nLZcmfU6SBEC"
      },
      "source": [
        "Procedo a hacerlo a continuación, incluyendo los datos correspondientes al 97.5% de menores valores de precio de call."
      ]
    },
    {
      "cell_type": "code",
      "metadata": {
        "colab": {
          "base_uri": "https://localhost:8080/",
          "height": 424
        },
        "id": "-GHA3v27QxrV",
        "outputId": "2986816e-3607-42b9-e62c-cc704171643e"
      },
      "source": [
        "q975 = df['Call Price'].quantile(0.975)\n",
        "df1 = df[df['Call Price'] <= q975]\n",
        "df1.sort_values('Call Price')"
      ],
      "execution_count": 70,
      "outputs": [
        {
          "output_type": "execute_result",
          "data": {
            "text/html": [
              "<div>\n",
              "<style scoped>\n",
              "    .dataframe tbody tr th:only-of-type {\n",
              "        vertical-align: middle;\n",
              "    }\n",
              "\n",
              "    .dataframe tbody tr th {\n",
              "        vertical-align: top;\n",
              "    }\n",
              "\n",
              "    .dataframe thead th {\n",
              "        text-align: right;\n",
              "    }\n",
              "</style>\n",
              "<table border=\"1\" class=\"dataframe\">\n",
              "  <thead>\n",
              "    <tr style=\"text-align: right;\">\n",
              "      <th></th>\n",
              "      <th>Stock Price</th>\n",
              "      <th>Strike Price</th>\n",
              "      <th>Maturity</th>\n",
              "      <th>Dividend Rate</th>\n",
              "      <th>Volatility</th>\n",
              "      <th>Risk-Free Rate</th>\n",
              "      <th>Call Price</th>\n",
              "    </tr>\n",
              "  </thead>\n",
              "  <tbody>\n",
              "    <tr>\n",
              "      <th>434875</th>\n",
              "      <td>0.040625</td>\n",
              "      <td>1.0</td>\n",
              "      <td>0.006872</td>\n",
              "      <td>0.018042</td>\n",
              "      <td>0.424260</td>\n",
              "      <td>0.069501</td>\n",
              "      <td>0.000000</td>\n",
              "    </tr>\n",
              "    <tr>\n",
              "      <th>454811</th>\n",
              "      <td>0.359674</td>\n",
              "      <td>1.0</td>\n",
              "      <td>0.321287</td>\n",
              "      <td>0.033024</td>\n",
              "      <td>0.037559</td>\n",
              "      <td>0.099983</td>\n",
              "      <td>0.000000</td>\n",
              "    </tr>\n",
              "    <tr>\n",
              "      <th>331049</th>\n",
              "      <td>0.131229</td>\n",
              "      <td>1.0</td>\n",
              "      <td>1.296533</td>\n",
              "      <td>0.009497</td>\n",
              "      <td>0.021248</td>\n",
              "      <td>0.075631</td>\n",
              "      <td>0.000000</td>\n",
              "    </tr>\n",
              "    <tr>\n",
              "      <th>208374</th>\n",
              "      <td>0.040730</td>\n",
              "      <td>1.0</td>\n",
              "      <td>0.558959</td>\n",
              "      <td>0.008917</td>\n",
              "      <td>0.107385</td>\n",
              "      <td>0.092028</td>\n",
              "      <td>0.000000</td>\n",
              "    </tr>\n",
              "    <tr>\n",
              "      <th>25386</th>\n",
              "      <td>0.389275</td>\n",
              "      <td>1.0</td>\n",
              "      <td>0.004400</td>\n",
              "      <td>0.001735</td>\n",
              "      <td>0.027386</td>\n",
              "      <td>0.064455</td>\n",
              "      <td>0.000000</td>\n",
              "    </tr>\n",
              "    <tr>\n",
              "      <th>...</th>\n",
              "      <td>...</td>\n",
              "      <td>...</td>\n",
              "      <td>...</td>\n",
              "      <td>...</td>\n",
              "      <td>...</td>\n",
              "      <td>...</td>\n",
              "      <td>...</td>\n",
              "    </tr>\n",
              "    <tr>\n",
              "      <th>213306</th>\n",
              "      <td>9.852137</td>\n",
              "      <td>1.0</td>\n",
              "      <td>1.033353</td>\n",
              "      <td>0.018963</td>\n",
              "      <td>0.708847</td>\n",
              "      <td>0.056555</td>\n",
              "      <td>8.718064</td>\n",
              "    </tr>\n",
              "    <tr>\n",
              "      <th>49450</th>\n",
              "      <td>9.943726</td>\n",
              "      <td>1.0</td>\n",
              "      <td>1.967984</td>\n",
              "      <td>0.014067</td>\n",
              "      <td>0.171446</td>\n",
              "      <td>0.025653</td>\n",
              "      <td>8.721448</td>\n",
              "    </tr>\n",
              "    <tr>\n",
              "      <th>320191</th>\n",
              "      <td>9.845619</td>\n",
              "      <td>1.0</td>\n",
              "      <td>0.277261</td>\n",
              "      <td>0.048414</td>\n",
              "      <td>0.450175</td>\n",
              "      <td>0.034671</td>\n",
              "      <td>8.723908</td>\n",
              "    </tr>\n",
              "    <tr>\n",
              "      <th>71127</th>\n",
              "      <td>10.478973</td>\n",
              "      <td>1.0</td>\n",
              "      <td>2.567880</td>\n",
              "      <td>0.034225</td>\n",
              "      <td>0.348362</td>\n",
              "      <td>0.052734</td>\n",
              "      <td>8.723990</td>\n",
              "    </tr>\n",
              "    <tr>\n",
              "      <th>173878</th>\n",
              "      <td>9.745274</td>\n",
              "      <td>1.0</td>\n",
              "      <td>0.079212</td>\n",
              "      <td>0.033283</td>\n",
              "      <td>0.075003</td>\n",
              "      <td>0.056450</td>\n",
              "      <td>8.724076</td>\n",
              "    </tr>\n",
              "  </tbody>\n",
              "</table>\n",
              "<p>487500 rows × 7 columns</p>\n",
              "</div>"
            ],
            "text/plain": [
              "        Stock Price  Strike Price  ...  Risk-Free Rate  Call Price\n",
              "434875     0.040625           1.0  ...        0.069501    0.000000\n",
              "454811     0.359674           1.0  ...        0.099983    0.000000\n",
              "331049     0.131229           1.0  ...        0.075631    0.000000\n",
              "208374     0.040730           1.0  ...        0.092028    0.000000\n",
              "25386      0.389275           1.0  ...        0.064455    0.000000\n",
              "...             ...           ...  ...             ...         ...\n",
              "213306     9.852137           1.0  ...        0.056555    8.718064\n",
              "49450      9.943726           1.0  ...        0.025653    8.721448\n",
              "320191     9.845619           1.0  ...        0.034671    8.723908\n",
              "71127     10.478973           1.0  ...        0.052734    8.723990\n",
              "173878     9.745274           1.0  ...        0.056450    8.724076\n",
              "\n",
              "[487500 rows x 7 columns]"
            ]
          },
          "metadata": {},
          "execution_count": 70
        }
      ]
    },
    {
      "cell_type": "markdown",
      "metadata": {
        "id": "vIxuPyAWR8Ah"
      },
      "source": [
        "Reitero el procedimiento anterior"
      ]
    },
    {
      "cell_type": "code",
      "metadata": {
        "id": "gNDUs1FzSNha"
      },
      "source": [
        "np.random.seed(237)\n",
        "X1_train, X1_test, y1_train, y1_test = train_test_split(df1.drop('Call Price', axis=1), \n",
        "                                                    df1['Call Price'], test_size=0.2)\n",
        "\n",
        "mlp1 = MLPRegressor(hidden_layer_sizes=(100,100,100,100), \n",
        "                   solver='adam', shuffle = False, batch_size=64, verbose=True,\n",
        "                   max_iter= 5\n",
        "                    ) "
      ],
      "execution_count": 73,
      "outputs": []
    },
    {
      "cell_type": "code",
      "metadata": {
        "colab": {
          "base_uri": "https://localhost:8080/"
        },
        "id": "Nzrs_SChSY0I",
        "outputId": "cb2dc07f-e2ec-40bc-f0af-9661a7b8c1b1"
      },
      "source": [
        "np.random.seed(237)\n",
        "mlp1.fit(X1_train, y1_train)"
      ],
      "execution_count": 74,
      "outputs": [
        {
          "output_type": "stream",
          "name": "stdout",
          "text": [
            "Iteration 1, loss = 0.00188228\n",
            "Iteration 2, loss = 0.00035028\n",
            "Iteration 3, loss = 0.00023825\n",
            "Iteration 4, loss = 0.00019806\n",
            "Iteration 5, loss = 0.00018299\n"
          ]
        },
        {
          "output_type": "stream",
          "name": "stderr",
          "text": [
            "/usr/local/lib/python3.7/dist-packages/sklearn/neural_network/_multilayer_perceptron.py:696: ConvergenceWarning: Stochastic Optimizer: Maximum iterations (5) reached and the optimization hasn't converged yet.\n",
            "  ConvergenceWarning,\n"
          ]
        },
        {
          "output_type": "execute_result",
          "data": {
            "text/plain": [
              "MLPRegressor(batch_size=64, hidden_layer_sizes=(100, 100, 100, 100), max_iter=5,\n",
              "             shuffle=False, verbose=True)"
            ]
          },
          "metadata": {},
          "execution_count": 74
        }
      ]
    },
    {
      "cell_type": "code",
      "metadata": {
        "colab": {
          "base_uri": "https://localhost:8080/",
          "height": 629
        },
        "id": "VPJw4MPASsFL",
        "outputId": "e1b261a9-a83b-4657-9ba7-a777022fadb4"
      },
      "source": [
        "print(\"Valor en el conjunto de entrenamiento: %f\" % mlp1.score(X1_train, y1_train))\n",
        "print(\"Valor en el conjunto de prueba: %f\" % mlp1.score(X1_test, y1_test))\n",
        "\n",
        "preds_test1 = mlp1.predict(X1_test)\n",
        "plt.scatter(y1_test, preds_test1, s= 0.1)\n",
        "plt.ylabel(\"Precio (predicción)\")\n",
        "plt.xlabel(\"Precio real\")\n",
        "plt.title(\"Precio predicho vs. Precio real\")\n",
        "plt.show()"
      ],
      "execution_count": 78,
      "outputs": [
        {
          "output_type": "stream",
          "name": "stdout",
          "text": [
            "Valor en el conjunto de entrenamiento: 0.999922\n",
            "Valor en el conjunto de prueba: 0.999924\n"
          ]
        },
        {
          "output_type": "display_data",
          "data": {
            "image/png": "[encoded data removed]",
            "text/plain": [
              "<Figure size 900x600 with 1 Axes>"
            ]
          },
          "metadata": {
            "needs_background": "light"
          }
        }
      ]
    },
    {
      "cell_type": "markdown",
      "metadata": {
        "id": "EXqdWJGpUEzS"
      },
      "source": [
        "Vemos que tanto el $R^2$ como la correlación marcada en el scatterplot mejoraron significativamente en el intervalo. Esto parecería indicar que los outliers causaban que el modelo se modifique de modo de generar aproximaciones imprecisas para una gran proporción de los valores.\n",
        "\n"
      ]
    }
  ]
}