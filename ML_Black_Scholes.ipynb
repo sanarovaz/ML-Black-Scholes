{
  "nbformat": 4,
  "nbformat_minor": 0,
  "metadata": {
    "colab": {
      "name": "ML Black-Scholes.ipynb",
      "provenance": [],
      "collapsed_sections": []
    },
    "kernelspec": {
      "name": "python3",
      "display_name": "Python 3"
    },
    "language_info": {
      "name": "python"
    }
  },
  "cells": [
    {
      "cell_type": "markdown",
      "metadata": {
        "id": "dvBsP23DUG5R"
      },
      "source": [
        "# Aproximación a valores de Black-Scholes por método de redes neuronales\n",
        "Se subió a Google Drive un archivo.csv conteniendo los valores de 500.000 combinaciones de parámetros y su correspondiente valor a partir de la fórmula de Black-Scholes. Para ello se emplearon la función runif() y la función blackscholes() del paquete ragtop, todo ésto en R.\n",
        "\n",
        "\n",
        "Los parámetros fueron obtenidos de manera pseudoaleatoria con una distribución uniforme entre los siguientes rangos:"
      ]
    },
    {
      "cell_type": "markdown",
      "metadata": {
        "id": "MceUaGG8VqDP"
      },
      "source": [
        "| Parámetro              |   Rango           |\n",
        "|:-----------------------|:------------------|\n",
        "| Precio de la acción $(S)$    | \\\\$10 — \\\\$500     |\n",
        "| Precio de strike $(K)$     |  \\\\$0,1 — \\\\$1000    |\n",
        "| Madurez $(T-t)$       | 1 día - 3 años  |\n",
        "| Tasa de dividendos $(q)$    | 0\\% — 5\\%         |\n",
        "| Tasa Libre de Riesgo $(r)$   | 1\\% — 5\\%         |\n",
        "| Volatilidad $(\\sigma)$  | 1\\% — 99,99\\%        |\n",
        "| Precio de Call $(C)$       |  \\\\$0 — \\\\$23045,77    |"
      ]
    },
    {
      "cell_type": "code",
      "metadata": {
        "colab": {
          "base_uri": "https://localhost:8080/"
        },
        "id": "VlxX1i1DDDqG",
        "outputId": "86a08fce-30e5-4f2d-bbc4-6ea2d4d58733"
      },
      "source": [
        "from google.colab import drive\n",
        "drive.mount('/content/drive')\n",
        "drive"
      ],
      "execution_count": null,
      "outputs": [
        {
          "output_type": "stream",
          "name": "stdout",
          "text": [
            "Mounted at /content/drive\n"
          ]
        },
        {
          "output_type": "execute_result",
          "data": {
            "text/plain": [
              "<module 'google.colab.drive' from '/usr/local/lib/python3.7/dist-packages/google/colab/drive.py'>"
            ]
          },
          "metadata": {},
          "execution_count": 1
        }
      ]
    },
    {
      "cell_type": "code",
      "metadata": {
        "id": "79S9c59oDg0I"
      },
      "source": [
        "import numpy as np\n",
        "from sklearn.neural_network import MLPRegressor\n",
        "from sklearn.model_selection import train_test_split\n",
        "from sklearn.metrics import mean_squared_error, r2_score\n",
        "import pandas as pd\n",
        "import matplotlib.pyplot as plt\n",
        "import pickle\n",
        "from scipy import stats\n",
        "import matplotlib\n",
        "matplotlib.rcParams['figure.dpi'] = 150"
      ],
      "execution_count": null,
      "outputs": []
    },
    {
      "cell_type": "code",
      "metadata": {
        "id": "cb49IBLoDrVi"
      },
      "source": [
        "path = '/content/drive/MyDrive/Colab Notebooks/BSSim.csv'"
      ],
      "execution_count": null,
      "outputs": []
    },
    {
      "cell_type": "code",
      "metadata": {
        "colab": {
          "base_uri": "https://localhost:8080/",
          "height": 424
        },
        "id": "-zXHc7RoLub-",
        "outputId": "09328037-6871-4186-c80e-3f174dcb97f6"
      },
      "source": [
        "df = pd.read_csv('/content/drive/MyDrive/Colab Notebooks/BSSim.csv').drop(['Unnamed: 0'], axis= 1)\n",
        "df"
      ],
      "execution_count": null,
      "outputs": [
        {
          "output_type": "execute_result",
          "data": {
            "text/html": [
              "<div>\n",
              "<style scoped>\n",
              "    .dataframe tbody tr th:only-of-type {\n",
              "        vertical-align: middle;\n",
              "    }\n",
              "\n",
              "    .dataframe tbody tr th {\n",
              "        vertical-align: top;\n",
              "    }\n",
              "\n",
              "    .dataframe thead th {\n",
              "        text-align: right;\n",
              "    }\n",
              "</style>\n",
              "<table border=\"1\" class=\"dataframe\">\n",
              "  <thead>\n",
              "    <tr style=\"text-align: right;\">\n",
              "      <th></th>\n",
              "      <th>Stock Price</th>\n",
              "      <th>Strike Price</th>\n",
              "      <th>Maturity</th>\n",
              "      <th>Dividend Rate</th>\n",
              "      <th>Volatility</th>\n",
              "      <th>Risk-Free Rate</th>\n",
              "      <th>Call Price</th>\n",
              "    </tr>\n",
              "  </thead>\n",
              "  <tbody>\n",
              "    <tr>\n",
              "      <th>0</th>\n",
              "      <td>255.041042</td>\n",
              "      <td>950.744397</td>\n",
              "      <td>1.969097</td>\n",
              "      <td>0.010443</td>\n",
              "      <td>0.718442</td>\n",
              "      <td>0.095498</td>\n",
              "      <td>2.611228e+01</td>\n",
              "    </tr>\n",
              "    <tr>\n",
              "      <th>1</th>\n",
              "      <td>368.552012</td>\n",
              "      <td>621.011641</td>\n",
              "      <td>1.284498</td>\n",
              "      <td>0.018675</td>\n",
              "      <td>0.445279</td>\n",
              "      <td>0.081265</td>\n",
              "      <td>2.336295e+01</td>\n",
              "    </tr>\n",
              "    <tr>\n",
              "      <th>2</th>\n",
              "      <td>60.413555</td>\n",
              "      <td>603.651758</td>\n",
              "      <td>0.952611</td>\n",
              "      <td>0.010442</td>\n",
              "      <td>0.987656</td>\n",
              "      <td>0.052811</td>\n",
              "      <td>5.193936e-01</td>\n",
              "    </tr>\n",
              "    <tr>\n",
              "      <th>3</th>\n",
              "      <td>290.442086</td>\n",
              "      <td>949.842427</td>\n",
              "      <td>2.481747</td>\n",
              "      <td>0.006238</td>\n",
              "      <td>0.155186</td>\n",
              "      <td>0.095643</td>\n",
              "      <td>1.049972e-03</td>\n",
              "    </tr>\n",
              "    <tr>\n",
              "      <th>4</th>\n",
              "      <td>170.439907</td>\n",
              "      <td>445.413954</td>\n",
              "      <td>0.427126</td>\n",
              "      <td>0.036164</td>\n",
              "      <td>0.595567</td>\n",
              "      <td>0.016510</td>\n",
              "      <td>2.160785e-01</td>\n",
              "    </tr>\n",
              "    <tr>\n",
              "      <th>...</th>\n",
              "      <td>...</td>\n",
              "      <td>...</td>\n",
              "      <td>...</td>\n",
              "      <td>...</td>\n",
              "      <td>...</td>\n",
              "      <td>...</td>\n",
              "      <td>...</td>\n",
              "    </tr>\n",
              "    <tr>\n",
              "      <th>499995</th>\n",
              "      <td>115.986656</td>\n",
              "      <td>504.959382</td>\n",
              "      <td>2.860278</td>\n",
              "      <td>0.041467</td>\n",
              "      <td>0.456905</td>\n",
              "      <td>0.082281</td>\n",
              "      <td>2.379752e+00</td>\n",
              "    </tr>\n",
              "    <tr>\n",
              "      <th>499996</th>\n",
              "      <td>449.113434</td>\n",
              "      <td>778.358943</td>\n",
              "      <td>0.971457</td>\n",
              "      <td>0.046959</td>\n",
              "      <td>0.157285</td>\n",
              "      <td>0.083839</td>\n",
              "      <td>1.026697e-02</td>\n",
              "    </tr>\n",
              "    <tr>\n",
              "      <th>499997</th>\n",
              "      <td>388.330313</td>\n",
              "      <td>724.784668</td>\n",
              "      <td>2.170198</td>\n",
              "      <td>0.018781</td>\n",
              "      <td>0.014243</td>\n",
              "      <td>0.041413</td>\n",
              "      <td>5.401457e-166</td>\n",
              "    </tr>\n",
              "    <tr>\n",
              "      <th>499998</th>\n",
              "      <td>219.441420</td>\n",
              "      <td>323.686003</td>\n",
              "      <td>1.785220</td>\n",
              "      <td>0.020249</td>\n",
              "      <td>0.103391</td>\n",
              "      <td>0.083503</td>\n",
              "      <td>2.873002e-01</td>\n",
              "    </tr>\n",
              "    <tr>\n",
              "      <th>499999</th>\n",
              "      <td>292.115058</td>\n",
              "      <td>870.189070</td>\n",
              "      <td>2.416340</td>\n",
              "      <td>0.025631</td>\n",
              "      <td>0.283452</td>\n",
              "      <td>0.084081</td>\n",
              "      <td>1.053597e+00</td>\n",
              "    </tr>\n",
              "  </tbody>\n",
              "</table>\n",
              "<p>500000 rows × 7 columns</p>\n",
              "</div>"
            ],
            "text/plain": [
              "        Stock Price  Strike Price  ...  Risk-Free Rate     Call Price\n",
              "0        255.041042    950.744397  ...        0.095498   2.611228e+01\n",
              "1        368.552012    621.011641  ...        0.081265   2.336295e+01\n",
              "2         60.413555    603.651758  ...        0.052811   5.193936e-01\n",
              "3        290.442086    949.842427  ...        0.095643   1.049972e-03\n",
              "4        170.439907    445.413954  ...        0.016510   2.160785e-01\n",
              "...             ...           ...  ...             ...            ...\n",
              "499995   115.986656    504.959382  ...        0.082281   2.379752e+00\n",
              "499996   449.113434    778.358943  ...        0.083839   1.026697e-02\n",
              "499997   388.330313    724.784668  ...        0.041413  5.401457e-166\n",
              "499998   219.441420    323.686003  ...        0.083503   2.873002e-01\n",
              "499999   292.115058    870.189070  ...        0.084081   1.053597e+00\n",
              "\n",
              "[500000 rows x 7 columns]"
            ]
          },
          "metadata": {},
          "execution_count": 8
        }
      ]
    },
    {
      "cell_type": "code",
      "metadata": {
        "colab": {
          "base_uri": "https://localhost:8080/"
        },
        "id": "qNmfIYIPXgUI",
        "outputId": "d2a66eca-01f1-4148-86fd-39b500c090c5"
      },
      "source": [
        "df['Call Price'].describe()"
      ],
      "execution_count": 40,
      "outputs": [
        {
          "output_type": "execute_result",
          "data": {
            "text/plain": [
              "count    500000.000000\n",
              "mean          2.206715\n",
              "std          78.887487\n",
              "min           0.000000\n",
              "25%           0.000013\n",
              "50%           0.022926\n",
              "75%           0.271571\n",
              "max       23045.768960\n",
              "Name: Call Price, dtype: float64"
            ]
          },
          "metadata": {},
          "execution_count": 40
        }
      ]
    },
    {
      "cell_type": "code",
      "metadata": {
        "colab": {
          "base_uri": "https://localhost:8080/",
          "height": 424
        },
        "id": "3hcbn-AqNF9p",
        "outputId": "7f0c429e-5451-4b48-ba55-73dd09ad6f57"
      },
      "source": [
        "df[\"Stock Price\"] = df[\"Stock Price\"]/df[\"Strike Price\"]\n",
        "df[\"Call Price\"] = df[\"Call Price\"]/df[\"Strike Price\"]\n",
        "df[\"Strike Price\"] = df[\"Strike Price\"]/df[\"Strike Price\"]\n",
        "df"
      ],
      "execution_count": null,
      "outputs": [
        {
          "output_type": "execute_result",
          "data": {
            "text/html": [
              "<div>\n",
              "<style scoped>\n",
              "    .dataframe tbody tr th:only-of-type {\n",
              "        vertical-align: middle;\n",
              "    }\n",
              "\n",
              "    .dataframe tbody tr th {\n",
              "        vertical-align: top;\n",
              "    }\n",
              "\n",
              "    .dataframe thead th {\n",
              "        text-align: right;\n",
              "    }\n",
              "</style>\n",
              "<table border=\"1\" class=\"dataframe\">\n",
              "  <thead>\n",
              "    <tr style=\"text-align: right;\">\n",
              "      <th></th>\n",
              "      <th>Stock Price</th>\n",
              "      <th>Strike Price</th>\n",
              "      <th>Maturity</th>\n",
              "      <th>Dividend Rate</th>\n",
              "      <th>Volatility</th>\n",
              "      <th>Risk-Free Rate</th>\n",
              "      <th>Call Price</th>\n",
              "    </tr>\n",
              "  </thead>\n",
              "  <tbody>\n",
              "    <tr>\n",
              "      <th>0</th>\n",
              "      <td>0.268254</td>\n",
              "      <td>1.0</td>\n",
              "      <td>1.969097</td>\n",
              "      <td>0.010443</td>\n",
              "      <td>0.718442</td>\n",
              "      <td>0.095498</td>\n",
              "      <td>2.746509e-02</td>\n",
              "    </tr>\n",
              "    <tr>\n",
              "      <th>1</th>\n",
              "      <td>0.593470</td>\n",
              "      <td>1.0</td>\n",
              "      <td>1.284498</td>\n",
              "      <td>0.018675</td>\n",
              "      <td>0.445279</td>\n",
              "      <td>0.081265</td>\n",
              "      <td>3.762080e-02</td>\n",
              "    </tr>\n",
              "    <tr>\n",
              "      <th>2</th>\n",
              "      <td>0.100080</td>\n",
              "      <td>1.0</td>\n",
              "      <td>0.952611</td>\n",
              "      <td>0.010442</td>\n",
              "      <td>0.987656</td>\n",
              "      <td>0.052811</td>\n",
              "      <td>8.604192e-04</td>\n",
              "    </tr>\n",
              "    <tr>\n",
              "      <th>3</th>\n",
              "      <td>0.305779</td>\n",
              "      <td>1.0</td>\n",
              "      <td>2.481747</td>\n",
              "      <td>0.006238</td>\n",
              "      <td>0.155186</td>\n",
              "      <td>0.095643</td>\n",
              "      <td>1.105418e-06</td>\n",
              "    </tr>\n",
              "    <tr>\n",
              "      <th>4</th>\n",
              "      <td>0.382655</td>\n",
              "      <td>1.0</td>\n",
              "      <td>0.427126</td>\n",
              "      <td>0.036164</td>\n",
              "      <td>0.595567</td>\n",
              "      <td>0.016510</td>\n",
              "      <td>4.851183e-04</td>\n",
              "    </tr>\n",
              "    <tr>\n",
              "      <th>...</th>\n",
              "      <td>...</td>\n",
              "      <td>...</td>\n",
              "      <td>...</td>\n",
              "      <td>...</td>\n",
              "      <td>...</td>\n",
              "      <td>...</td>\n",
              "      <td>...</td>\n",
              "    </tr>\n",
              "    <tr>\n",
              "      <th>499995</th>\n",
              "      <td>0.229695</td>\n",
              "      <td>1.0</td>\n",
              "      <td>2.860278</td>\n",
              "      <td>0.041467</td>\n",
              "      <td>0.456905</td>\n",
              "      <td>0.082281</td>\n",
              "      <td>4.712759e-03</td>\n",
              "    </tr>\n",
              "    <tr>\n",
              "      <th>499996</th>\n",
              "      <td>0.577000</td>\n",
              "      <td>1.0</td>\n",
              "      <td>0.971457</td>\n",
              "      <td>0.046959</td>\n",
              "      <td>0.157285</td>\n",
              "      <td>0.083839</td>\n",
              "      <td>1.319053e-05</td>\n",
              "    </tr>\n",
              "    <tr>\n",
              "      <th>499997</th>\n",
              "      <td>0.535787</td>\n",
              "      <td>1.0</td>\n",
              "      <td>2.170198</td>\n",
              "      <td>0.018781</td>\n",
              "      <td>0.014243</td>\n",
              "      <td>0.041413</td>\n",
              "      <td>7.452499e-169</td>\n",
              "    </tr>\n",
              "    <tr>\n",
              "      <th>499998</th>\n",
              "      <td>0.677945</td>\n",
              "      <td>1.0</td>\n",
              "      <td>1.785220</td>\n",
              "      <td>0.020249</td>\n",
              "      <td>0.103391</td>\n",
              "      <td>0.083503</td>\n",
              "      <td>8.875891e-04</td>\n",
              "    </tr>\n",
              "    <tr>\n",
              "      <th>499999</th>\n",
              "      <td>0.335691</td>\n",
              "      <td>1.0</td>\n",
              "      <td>2.416340</td>\n",
              "      <td>0.025631</td>\n",
              "      <td>0.283452</td>\n",
              "      <td>0.084081</td>\n",
              "      <td>1.210768e-03</td>\n",
              "    </tr>\n",
              "  </tbody>\n",
              "</table>\n",
              "<p>500000 rows × 7 columns</p>\n",
              "</div>"
            ],
            "text/plain": [
              "        Stock Price  Strike Price  ...  Risk-Free Rate     Call Price\n",
              "0          0.268254           1.0  ...        0.095498   2.746509e-02\n",
              "1          0.593470           1.0  ...        0.081265   3.762080e-02\n",
              "2          0.100080           1.0  ...        0.052811   8.604192e-04\n",
              "3          0.305779           1.0  ...        0.095643   1.105418e-06\n",
              "4          0.382655           1.0  ...        0.016510   4.851183e-04\n",
              "...             ...           ...  ...             ...            ...\n",
              "499995     0.229695           1.0  ...        0.082281   4.712759e-03\n",
              "499996     0.577000           1.0  ...        0.083839   1.319053e-05\n",
              "499997     0.535787           1.0  ...        0.041413  7.452499e-169\n",
              "499998     0.677945           1.0  ...        0.083503   8.875891e-04\n",
              "499999     0.335691           1.0  ...        0.084081   1.210768e-03\n",
              "\n",
              "[500000 rows x 7 columns]"
            ]
          },
          "metadata": {},
          "execution_count": 9
        }
      ]
    },
    {
      "cell_type": "code",
      "metadata": {
        "id": "TnSu8Q_jNR_9"
      },
      "source": [
        "np.random.seed(237)\n",
        "X_train, X_test, y_train, y_test = train_test_split(df.drop('Call Price', axis=1), \n",
        "                                                    df['Call Price'], test_size=0.2)\n",
        "\n",
        "mlp = MLPRegressor(hidden_layer_sizes=(100,100,100,100), \n",
        "                   solver='adam', shuffle = False, batch_size=64, verbose=True,\n",
        "                   max_iter= 5\n",
        "                    ) "
      ],
      "execution_count": null,
      "outputs": []
    },
    {
      "cell_type": "code",
      "metadata": {
        "colab": {
          "base_uri": "https://localhost:8080/"
        },
        "id": "VrHEwhaPNrdN",
        "outputId": "9744a3dc-d8f8-4f41-cce0-30e94bb2241c"
      },
      "source": [
        "np.random.seed(237)\n",
        "mlp.fit(X_train, y_train)"
      ],
      "execution_count": null,
      "outputs": [
        {
          "output_type": "stream",
          "name": "stdout",
          "text": [
            "Iteration 1, loss = 213.61281358\n",
            "Iteration 2, loss = 164.03065278\n",
            "Iteration 3, loss = 213.72765747\n",
            "Iteration 4, loss = 262.59395452\n",
            "Iteration 5, loss = 147.08965353\n"
          ]
        },
        {
          "output_type": "stream",
          "name": "stderr",
          "text": [
            "/usr/local/lib/python3.7/dist-packages/sklearn/neural_network/_multilayer_perceptron.py:696: ConvergenceWarning: Stochastic Optimizer: Maximum iterations (5) reached and the optimization hasn't converged yet.\n",
            "  ConvergenceWarning,\n"
          ]
        },
        {
          "output_type": "execute_result",
          "data": {
            "text/plain": [
              "MLPRegressor(batch_size=64, hidden_layer_sizes=(100, 100, 100, 100), max_iter=5,\n",
              "             shuffle=False, verbose=True)"
            ]
          },
          "metadata": {},
          "execution_count": 11
        }
      ]
    },
    {
      "cell_type": "code",
      "metadata": {
        "colab": {
          "base_uri": "https://localhost:8080/"
        },
        "id": "clE0qIh4OXTt",
        "outputId": "a1972159-d9f9-45d2-9dbd-34ad4604f193"
      },
      "source": [
        "print(\"Training set score: %f\" % mlp.score(X_train, y_train))\n",
        "print(\"Test set score: %f\" % mlp.score(X_test, y_test))"
      ],
      "execution_count": null,
      "outputs": [
        {
          "output_type": "stream",
          "name": "stdout",
          "text": [
            "Training set score: 0.995725\n",
            "Test set score: 0.997317\n"
          ]
        }
      ]
    },
    {
      "cell_type": "code",
      "metadata": {
        "colab": {
          "base_uri": "https://localhost:8080/",
          "height": 594
        },
        "id": "97jpBENZOhYg",
        "outputId": "2d37cc37-b57a-4a0b-9061-03a514771711"
      },
      "source": [
        "preds_test = mlp.predict(X_test)\n",
        "plt.scatter(y_test, preds_test, s= 0.1)\n",
        "plt.ylabel(\"Predicted Price\")\n",
        "plt.xlabel(\"Actual Price\")\n",
        "plt.title(\"Actual vs Predicted Price\")\n",
        "plt.show()"
      ],
      "execution_count": null,
      "outputs": [
        {
          "output_type": "display_data",
          "data": {
            "image/png": "[encoded data removed]",
            "text/plain": [
              "<Figure size 900x600 with 1 Axes>"
            ]
          },
          "metadata": {
            "needs_background": "light"
          }
        }
      ]
    },
    {
      "cell_type": "code",
      "metadata": {
        "colab": {
          "base_uri": "https://localhost:8080/"
        },
        "id": "0_Y6YpUGQhBF",
        "outputId": "e3217d7d-8cf6-4870-c869-71aa68acdb12"
      },
      "source": [
        "preds_train= mlp.predict(X_train)\n",
        "pricing_error_train = (preds_train - y_train)\n",
        "pricing_error_train.describe()"
      ],
      "execution_count": null,
      "outputs": [
        {
          "output_type": "execute_result",
          "data": {
            "text/plain": [
              "179184   -0.063518\n",
              "214275   -0.050582\n",
              "308034    0.011547\n",
              "216556   -0.103305\n",
              "67391     0.245421\n",
              "Name: Call Price, dtype: float64"
            ]
          },
          "metadata": {},
          "execution_count": 30
        }
      ]
    },
    {
      "cell_type": "code",
      "metadata": {
        "colab": {
          "base_uri": "https://localhost:8080/"
        },
        "id": "ZEFcM25lSk4c",
        "outputId": "a1678e6a-43db-42d0-ba7f-3cb586812ef0"
      },
      "source": [
        "len(pricing_error_train[pricing_error_train > 50])"
      ],
      "execution_count": null,
      "outputs": [
        {
          "output_type": "execute_result",
          "data": {
            "text/plain": [
              "92"
            ]
          },
          "metadata": {},
          "execution_count": 39
        }
      ]
    }
  ]
}